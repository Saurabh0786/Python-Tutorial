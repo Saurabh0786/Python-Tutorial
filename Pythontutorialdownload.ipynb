{
 "cells": [
  {
   "cell_type": "code",
   "execution_count": 1,
   "id": "2ed6550f-78fb-471e-8909-0c16aca43669",
   "metadata": {},
   "outputs": [],
   "source": [
    "a=10"
   ]
  },
  {
   "cell_type": "code",
   "execution_count": 2,
   "id": "45b8bd8f-2a08-431b-a8f9-10954daba2d6",
   "metadata": {},
   "outputs": [],
   "source": [
    "b=20"
   ]
  },
  {
   "cell_type": "code",
   "execution_count": 3,
   "id": "7d35c282-9144-402e-872a-ec4bac16100a",
   "metadata": {},
   "outputs": [
    {
     "name": "stdout",
     "output_type": "stream",
     "text": [
      "a is first value 10\n"
     ]
    }
   ],
   "source": [
    "print(\"a is first value\", a)"
   ]
  },
  {
   "cell_type": "code",
   "execution_count": 4,
   "id": "358b67e4-cc33-452e-8f0d-2df80b36ca93",
   "metadata": {},
   "outputs": [
    {
     "name": "stdout",
     "output_type": "stream",
     "text": [
      "b is second value 20\n"
     ]
    }
   ],
   "source": [
    "print(\"b is second value\", b)"
   ]
  },
  {
   "cell_type": "code",
   "execution_count": 6,
   "id": "d1d682ec-f9e9-4543-9769-6bd8abad0799",
   "metadata": {},
   "outputs": [
    {
     "name": "stdout",
     "output_type": "stream",
     "text": [
      "Addition is 30\n"
     ]
    }
   ],
   "source": [
    "a=10\n",
    "b=20\n",
    "c=a+b\n",
    "print(\"Addition is\",c)\n"
   ]
  },
  {
   "cell_type": "code",
   "execution_count": 8,
   "id": "041fbbd1-8e11-42bd-8705-e9503357772b",
   "metadata": {},
   "outputs": [
    {
     "name": "stdout",
     "output_type": "stream",
     "text": [
      "subtraction is -10\n"
     ]
    }
   ],
   "source": [
    "a=10\n",
    "b=20\n",
    "c=a-b\n",
    "print(\"subtraction is\", c)"
   ]
  },
  {
   "cell_type": "code",
   "execution_count": 9,
   "id": "e70ebaad-bcf0-4ae3-aecf-8d747a842b97",
   "metadata": {},
   "outputs": [
    {
     "name": "stdout",
     "output_type": "stream",
     "text": [
      "multiplication is 200\n"
     ]
    }
   ],
   "source": [
    "a=10\n",
    "b=20\n",
    "c=a*b\n",
    "print(\"multiplication is\", c)"
   ]
  },
  {
   "cell_type": "code",
   "execution_count": 10,
   "id": "a46d4d1a-94c5-4216-8f18-0d1301ac8e09",
   "metadata": {},
   "outputs": [
    {
     "name": "stdout",
     "output_type": "stream",
     "text": [
      "division is 0.5\n"
     ]
    }
   ],
   "source": [
    "a=10\n",
    "b=20\n",
    "c=a/b\n",
    "print(\"division is\", c)"
   ]
  },
  {
   "cell_type": "code",
   "execution_count": 14,
   "id": "59d1d1ce-8658-49bd-96da-626d6faecb03",
   "metadata": {},
   "outputs": [
    {
     "name": "stdout",
     "output_type": "stream",
     "text": [
      "Modulo is 10\n"
     ]
    }
   ],
   "source": [
    "a=10\n",
    "b=20\n",
    "c=a%b\n",
    "print(\"Modulo is\", c)"
   ]
  },
  {
   "cell_type": "code",
   "execution_count": 13,
   "id": "49592eda-72df-45e3-a4ff-d48d92862cbd",
   "metadata": {},
   "outputs": [
    {
     "name": "stdout",
     "output_type": "stream",
     "text": [
      "Exponentiation is 100000000000000000000\n"
     ]
    }
   ],
   "source": [
    "a=10\n",
    "b=20\n",
    "c=a**b\n",
    "print(\"Exponentiation is\", c)"
   ]
  },
  {
   "cell_type": "code",
   "execution_count": 16,
   "id": "a7495a43-6f27-4da6-98bd-883b92bf9206",
   "metadata": {},
   "outputs": [
    {
     "name": "stdout",
     "output_type": "stream",
     "text": [
      "Floor division is 0\n"
     ]
    }
   ],
   "source": [
    "a=10\n",
    "b=20\n",
    "c=a//b\n",
    "print(\"Floor division is\", c)"
   ]
  },
  {
   "cell_type": "code",
   "execution_count": 43,
   "id": "6c129c5d-a45d-4c98-9e07-b0305d9e7c64",
   "metadata": {},
   "outputs": [
    {
     "name": "stdout",
     "output_type": "stream",
     "text": [
      "Addition of a+b is  30\n",
      "Subtraction of a-b is  -10\n",
      "Multiplication of a*b is  200\n",
      "Division of a/b is  0.5\n",
      "Modulo of a%b is  10\n",
      "Exponentiation of a+b is  100000000000000000000\n",
      "Quotient of a//b is  0\n"
     ]
    }
   ],
   "source": [
    "a=10\n",
    "b=20\n",
    "\n",
    "c=a+b\n",
    "d=a-b\n",
    "e=a*b\n",
    "f=a/b\n",
    "g=a%b\n",
    "h=a**b\n",
    "i=a//b\n",
    "\n",
    "print(\"Addition of a+b is \", c)\n",
    "print(\"Subtraction of a-b is \", d)\n",
    "print(\"Multiplication of a*b is \", e)\n",
    "print(\"Division of a/b is \", f)\n",
    "print(\"Modulo of a%b is \", g)\n",
    "print(\"Exponentiation of a+b is \", h)\n",
    "print(\"Quotient of a//b is \", i)"
   ]
  },
  {
   "cell_type": "code",
   "execution_count": 17,
   "id": "71a76349-da65-48ac-aaf1-2eed43f35029",
   "metadata": {},
   "outputs": [
    {
     "ename": "SyntaxError",
     "evalue": "invalid decimal literal (1495069824.py, line 5)",
     "output_type": "error",
     "traceback": [
      "\u001b[1;36m  Cell \u001b[1;32mIn[17], line 5\u001b[1;36m\u001b[0m\n\u001b[1;33m    5day=30\u001b[0m\n\u001b[1;37m    ^\u001b[0m\n\u001b[1;31mSyntaxError\u001b[0m\u001b[1;31m:\u001b[0m invalid decimal literal\n"
     ]
    }
   ],
   "source": [
    "number=10\n",
    "percentage=76.86\n",
    "_city=\"pune\"\n",
    "if=95\n",
    "5day=30\n",
    "day5=30\n"
   ]
  },
  {
   "cell_type": "code",
   "execution_count": null,
   "id": "ad060e0a-4006-4d8c-bf25-fa9a52010fd9",
   "metadata": {},
   "outputs": [],
   "source": []
  },
  {
   "cell_type": "code",
   "execution_count": 19,
   "id": "0125f09d-c27f-48ca-ae00-ef4be58fe2aa",
   "metadata": {},
   "outputs": [
    {
     "ename": "SyntaxError",
     "evalue": "invalid syntax. Maybe you meant '==' or ':=' instead of '='? (1491428613.py, line 1)",
     "output_type": "error",
     "traceback": [
      "\u001b[1;36m  Cell \u001b[1;32mIn[19], line 1\u001b[1;36m\u001b[0m\n\u001b[1;33m    @state=\"MH\"\u001b[0m\n\u001b[1;37m     ^\u001b[0m\n\u001b[1;31mSyntaxError\u001b[0m\u001b[1;31m:\u001b[0m invalid syntax. Maybe you meant '==' or ':=' instead of '='?\n"
     ]
    }
   ],
   "source": [
    "@state=\"MH\""
   ]
  },
  {
   "cell_type": "code",
   "execution_count": 20,
   "id": "7c61261e-3fda-4acc-b87c-07841f5a7fd9",
   "metadata": {},
   "outputs": [
    {
     "ename": "SyntaxError",
     "evalue": "invalid syntax (493089485.py, line 1)",
     "output_type": "error",
     "traceback": [
      "\u001b[1;36m  Cell \u001b[1;32mIn[20], line 1\u001b[1;36m\u001b[0m\n\u001b[1;33m    roll num=35\u001b[0m\n\u001b[1;37m         ^\u001b[0m\n\u001b[1;31mSyntaxError\u001b[0m\u001b[1;31m:\u001b[0m invalid syntax\n"
     ]
    }
   ],
   "source": [
    "roll num=35"
   ]
  },
  {
   "cell_type": "code",
   "execution_count": 21,
   "id": "3f047371-4f70-4898-986c-0c951f694220",
   "metadata": {},
   "outputs": [],
   "source": [
    "roll_num=35"
   ]
  },
  {
   "cell_type": "code",
   "execution_count": 23,
   "id": "ead7b201-e018-473f-a204-4157c7b11f82",
   "metadata": {},
   "outputs": [
    {
     "ename": "NameError",
     "evalue": "name 'typeof' is not defined",
     "output_type": "error",
     "traceback": [
      "\u001b[1;31m---------------------------------------------------------------------------\u001b[0m",
      "\u001b[1;31mNameError\u001b[0m                                 Traceback (most recent call last)",
      "Cell \u001b[1;32mIn[23], line 2\u001b[0m\n\u001b[0;32m      1\u001b[0m number\u001b[38;5;241m=\u001b[39m\u001b[38;5;241m10\u001b[39m\n\u001b[1;32m----> 2\u001b[0m typeof(number)\n",
      "\u001b[1;31mNameError\u001b[0m: name 'typeof' is not defined"
     ]
    }
   ],
   "source": [
    "number=10\n",
    "typeof(number)\n"
   ]
  },
  {
   "cell_type": "code",
   "execution_count": 27,
   "id": "5f10e7b2-54be-44db-bd94-587a58aadeee",
   "metadata": {},
   "outputs": [
    {
     "name": "stdout",
     "output_type": "stream",
     "text": [
      "<class 'float'>\n",
      "<class 'str'>\n"
     ]
    }
   ],
   "source": [
    "a=5.5\n",
    "print(type(a))\n",
    "b=str(a)\n",
    "print(type(b))"
   ]
  },
  {
   "cell_type": "code",
   "execution_count": 30,
   "id": "10c4d421-2238-4201-87db-76a2f4c37427",
   "metadata": {},
   "outputs": [
    {
     "name": "stdout",
     "output_type": "stream",
     "text": [
      "<class 'str'>\n",
      "<class 'int'>\n"
     ]
    }
   ],
   "source": [
    "a='20'\n",
    "print(type(a))\n",
    "b=int(a)\n",
    "print(type(b))\n"
   ]
  },
  {
   "cell_type": "code",
   "execution_count": 31,
   "id": "edaabcbb-b8bf-41ce-a723-d595f5c0461a",
   "metadata": {},
   "outputs": [
    {
     "name": "stdout",
     "output_type": "stream",
     "text": [
      "<class 'str'>\n"
     ]
    },
    {
     "ename": "ValueError",
     "evalue": "invalid literal for int() with base 10: 'ab'",
     "output_type": "error",
     "traceback": [
      "\u001b[1;31m---------------------------------------------------------------------------\u001b[0m",
      "\u001b[1;31mValueError\u001b[0m                                Traceback (most recent call last)",
      "Cell \u001b[1;32mIn[31], line 3\u001b[0m\n\u001b[0;32m      1\u001b[0m a\u001b[38;5;241m=\u001b[39m\u001b[38;5;124m'\u001b[39m\u001b[38;5;124mab\u001b[39m\u001b[38;5;124m'\u001b[39m\n\u001b[0;32m      2\u001b[0m \u001b[38;5;28mprint\u001b[39m(\u001b[38;5;28mtype\u001b[39m(a))\n\u001b[1;32m----> 3\u001b[0m b\u001b[38;5;241m=\u001b[39m\u001b[38;5;28mint\u001b[39m(a)\n\u001b[0;32m      4\u001b[0m \u001b[38;5;28mprint\u001b[39m(\u001b[38;5;28mtype\u001b[39m(b))\n",
      "\u001b[1;31mValueError\u001b[0m: invalid literal for int() with base 10: 'ab'"
     ]
    }
   ],
   "source": [
    "a='ab'\n",
    "print(type(a))\n",
    "b=int(a)\n",
    "print(type(b))"
   ]
  },
  {
   "cell_type": "code",
   "execution_count": 33,
   "id": "7a6f4cfa-7544-4d53-8ead-69334cf8493e",
   "metadata": {},
   "outputs": [
    {
     "name": "stdout",
     "output_type": "stream",
     "text": [
      "<class 'bool'>\n",
      "<class 'int'>\n"
     ]
    }
   ],
   "source": [
    "d=True\n",
    "print(type(d))\n",
    "e=int(d)\n",
    "print(type(e))"
   ]
  },
  {
   "cell_type": "code",
   "execution_count": 37,
   "id": "ca59423f-ad6e-4af9-909b-815eb8d26c6b",
   "metadata": {},
   "outputs": [
    {
     "name": "stdout",
     "output_type": "stream",
     "text": [
      "Enter first num: 5\n",
      "Enter Second num: 6\n"
     ]
    },
    {
     "name": "stdout",
     "output_type": "stream",
     "text": [
      "Addition of a+b is 11\n",
      "Subtraction of a-b is -1\n",
      "Multipication of a*b is 30\n",
      "Division of a/b is 0.8333333333333334\n"
     ]
    }
   ],
   "source": [
    "a=int(input(\"Enter first num:\"))\n",
    "b=int(input(\"Enter Second num:\"))\n",
    "c=a+b\n",
    "d=a-b\n",
    "e=a*b\n",
    "f=a/b\n",
    "print(\"Addition of a+b is\",c)\n",
    "print(\"Subtraction of a-b is\",d)\n",
    "print(\"Multipication of a*b is\",e)\n",
    "print(\"Division of a/b is\",f)"
   ]
  },
  {
   "cell_type": "code",
   "execution_count": 74,
   "id": "cee34026-c238-4897-82f2-a43f8144b881",
   "metadata": {},
   "outputs": [
    {
     "name": "stdout",
     "output_type": "stream",
     "text": [
      "Enter Age :  34\n"
     ]
    },
    {
     "name": "stdout",
     "output_type": "stream",
     "text": [
      "You are Eligible for Vote.\n"
     ]
    }
   ],
   "source": [
    "# user input age\n",
    "age = int(input(\"Enter Age : \"))\n",
    "\n",
    "if age >= 18:\n",
    "    status = \"Eligible\"\n",
    "else:\n",
    "    status = \"Not Eligible\"\n",
    "\n",
    "print(f\"You are {status} for Vote.\")\n"
   ]
  },
  {
   "cell_type": "code",
   "execution_count": 48,
   "id": "6db3410b-c19b-4ef2-9090-22a7203d9575",
   "metadata": {},
   "outputs": [
    {
     "name": "stdout",
     "output_type": "stream",
     "text": [
      "Enter the radius of the circle:  6\n"
     ]
    },
    {
     "name": "stdout",
     "output_type": "stream",
     "text": [
      "The area of the circle is 113.10\n"
     ]
    }
   ],
   "source": [
    "radius = float(input(\"Enter the radius of the circle: \"))\n",
    "area = math.pi * radius ** 2\n",
    "print(f\"The area of the circle is {area:.2f}\")"
   ]
  },
  {
   "cell_type": "code",
   "execution_count": 47,
   "id": "8a010ff2-17b5-4eea-9d82-835212387fd8",
   "metadata": {},
   "outputs": [
    {
     "name": "stdout",
     "output_type": "stream",
     "text": [
      "Enter the base of triangle 4\n",
      "Enter the height of triangle 6\n"
     ]
    },
    {
     "name": "stdout",
     "output_type": "stream",
     "text": [
      "The area of triangle is 12.00\n"
     ]
    }
   ],
   "source": [
    "base=float(input(\"Enter the base of triangle\"))\n",
    "height=float(input(\"Enter the height of triangle\"))\n",
    "area=0.5*base*height\n",
    "print(f\"The area of triangle is {area:.2f}\")"
   ]
  },
  {
   "cell_type": "code",
   "execution_count": 52,
   "id": "48fdf434-7d28-497a-8f80-19d6fe67a43c",
   "metadata": {},
   "outputs": [
    {
     "name": "stdout",
     "output_type": "stream",
     "text": [
      "Enter the value of square 5\n"
     ]
    },
    {
     "name": "stdout",
     "output_type": "stream",
     "text": [
      "The area of square is 25.00\n"
     ]
    }
   ],
   "source": [
    "square=float(input(\"Enter the value of square\"))\n",
    "area=square**2\n",
    "print(f\"The area of square is {area:.2f}\")"
   ]
  },
  {
   "cell_type": "code",
   "execution_count": 53,
   "id": "65f659dc-7b10-4e30-aaba-df7dfdd4d088",
   "metadata": {},
   "outputs": [
    {
     "name": "stdout",
     "output_type": "stream",
     "text": [
      "Enter the of value of sq root 25\n"
     ]
    },
    {
     "name": "stdout",
     "output_type": "stream",
     "text": [
      "The area of square root is 5.00\n"
     ]
    }
   ],
   "source": [
    "sqrt=float(input(\"Enter the of value of sq root\"))\n",
    "area=sqrt**0.5\n",
    "print(f\"The area of square root is {area:.2f}\")"
   ]
  },
  {
   "cell_type": "code",
   "execution_count": 56,
   "id": "f4186876-4996-4431-8ebc-e2d6b5c73153",
   "metadata": {},
   "outputs": [
    {
     "name": "stdout",
     "output_type": "stream",
     "text": [
      "Enter the value of cube root 125\n"
     ]
    },
    {
     "name": "stdout",
     "output_type": "stream",
     "text": [
      "The area of cube root is 5.00\n"
     ]
    }
   ],
   "source": [
    "cuberoot=float(input(\"Enter the value of cube root\"))\n",
    "area=cuberoot**(1/3)\n",
    "print(f\"The area of cube root is {area:.2f}\")"
   ]
  },
  {
   "cell_type": "code",
   "execution_count": 57,
   "id": "dc0ad923-0e82-4413-81fe-c843951b1188",
   "metadata": {},
   "outputs": [],
   "source": [
    "# find out the number given by user is positive or negative"
   ]
  },
  {
   "cell_type": "code",
   "execution_count": 61,
   "id": "ae8e9c57-2c03-4c7a-bd63-b2bac8e0733b",
   "metadata": {},
   "outputs": [
    {
     "name": "stdout",
     "output_type": "stream",
     "text": [
      "Enter the number :  -1\n"
     ]
    },
    {
     "name": "stdout",
     "output_type": "stream",
     "text": [
      "Negative\n"
     ]
    }
   ],
   "source": [
    "user = int(input(\"Enter the number : \"))\n",
    "\n",
    "if user>0:\n",
    "   print(\"Positive\")\n",
    "else:\n",
    "  print(\"Negative\")"
   ]
  },
  {
   "cell_type": "code",
   "execution_count": 62,
   "id": "68cb9bb0-92cc-4e31-9b97-2c3e74b38c1a",
   "metadata": {},
   "outputs": [],
   "source": [
    "# even or odd"
   ]
  },
  {
   "cell_type": "code",
   "execution_count": 67,
   "id": "44afb03b-f24e-4149-a48f-cb42f73aedc8",
   "metadata": {},
   "outputs": [
    {
     "name": "stdout",
     "output_type": "stream",
     "text": [
      "Enter the number :  53\n"
     ]
    },
    {
     "name": "stdout",
     "output_type": "stream",
     "text": [
      "Odd\n"
     ]
    }
   ],
   "source": [
    "user = int(input(\"Enter the number : \"))\n",
    "if user%2==0:\n",
    "    print(\"Even\")\n",
    "else:\n",
    "    print(\"Odd\")"
   ]
  },
  {
   "cell_type": "code",
   "execution_count": 9,
   "id": "aaeeb7bf",
   "metadata": {},
   "outputs": [
    {
     "name": "stdout",
     "output_type": "stream",
     "text": [
      "7\n",
      "14\n",
      "21\n",
      "28\n",
      "35\n",
      "42\n",
      "49\n",
      "56\n",
      "63\n",
      "70\n"
     ]
    }
   ],
   "source": [
    "num=7\n",
    "i=1\n",
    "while(i<=10):\n",
    "      print(num*i)\n",
    "      i+=1"
   ]
  }
 ],
 "metadata": {
  "kernelspec": {
   "display_name": "Python 3",
   "language": "python",
   "name": "python3"
  },
  "language_info": {
   "codemirror_mode": {
    "name": "ipython",
    "version": 3
   },
   "file_extension": ".py",
   "mimetype": "text/x-python",
   "name": "python",
   "nbconvert_exporter": "python",
   "pygments_lexer": "ipython3",
   "version": "3.13.7"
  }
 },
 "nbformat": 4,
 "nbformat_minor": 5
}
