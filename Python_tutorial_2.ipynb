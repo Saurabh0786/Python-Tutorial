{
 "cells": [
  {
   "cell_type": "code",
   "execution_count": 7,
   "id": "c7e91f5d-daee-49c0-b463-41a6788fbf9d",
   "metadata": {},
   "outputs": [
    {
     "name": "stdin",
     "output_type": "stream",
     "text": [
      "Enter the radius of the circle :  4\n"
     ]
    },
    {
     "name": "stdout",
     "output_type": "stream",
     "text": [
      "The area of circle is 50.24\n"
     ]
    }
   ],
   "source": [
    "#Area of circle\n",
    "radius=float(input(\"Enter the radius of the circle : \"))\n",
    "a=3.14*(radius*radius)\n",
    "print(\"The area of circle is\",a) "
   ]
  },
  {
   "cell_type": "code",
   "execution_count": 8,
   "id": "19740c06-19d5-4313-a542-ef83439cb701",
   "metadata": {},
   "outputs": [
    {
     "name": "stdin",
     "output_type": "stream",
     "text": [
      "Enter the base of triangle :  5\n",
      "Enter the height of triangle :  6\n"
     ]
    },
    {
     "name": "stdout",
     "output_type": "stream",
     "text": [
      "The area of triangle is 15.0\n"
     ]
    }
   ],
   "source": [
    "#Area of triangle\n",
    "base=float(input(\"Enter the base of triangle : \"))\n",
    "height=int(input(\"Enter the height of triangle : \"))\n",
    "Area_of_triangle=0.5*base*height\n",
    "print(\"The area of triangle is\",Area_of_triangle)"
   ]
  },
  {
   "cell_type": "code",
   "execution_count": 9,
   "id": "0cdec5a0-fa18-4792-93f6-bce42b836686",
   "metadata": {},
   "outputs": [
    {
     "name": "stdin",
     "output_type": "stream",
     "text": [
      "Enter the length of rectangle :  5\n",
      "Enter the breadth of rectangle :  3\n"
     ]
    },
    {
     "name": "stdout",
     "output_type": "stream",
     "text": [
      "The area of rectangle is 15.0\n"
     ]
    }
   ],
   "source": [
    "#Area of rectangle\n",
    "length=float(input(\"Enter the length of rectangle : \"))\n",
    "breadth=float(input(\"Enter the breadth of rectangle : \"))\n",
    "Area_of_rectangle=length*breadth\n",
    "print(\"The area of rectangle is\",Area_of_rectangle)"
   ]
  },
  {
   "cell_type": "code",
   "execution_count": 14,
   "id": "98146485-1b22-45bb-a630-b93c4a9702aa",
   "metadata": {},
   "outputs": [
    {
     "name": "stdin",
     "output_type": "stream",
     "text": [
      "Enter the area of square : 5\n"
     ]
    },
    {
     "name": "stdout",
     "output_type": "stream",
     "text": [
      "The area of square is 25.0\n"
     ]
    }
   ],
   "source": [
    "#Area of Square\n",
    "square=float(input(\"Enter the area of square :\"))\n",
    "Area_of_square=square*square\n",
    "print(\"The area of square is\",Area_of_square)"
   ]
  },
  {
   "cell_type": "code",
   "execution_count": 13,
   "id": "e2874897-4c46-4f06-8f26-f6bc1f504cfb",
   "metadata": {},
   "outputs": [
    {
     "name": "stdin",
     "output_type": "stream",
     "text": [
      "Enter the area of square : 25\n"
     ]
    },
    {
     "name": "stdout",
     "output_type": "stream",
     "text": [
      "The area of square root is 5.0\n"
     ]
    }
   ],
   "source": [
    "#Area of Squareroot\n",
    "a=float(input(\"Enter the area of square :\"))\n",
    "Area_of_squareroot=a**0.5\n",
    "print(\"The area of square root is\",Area_of_squareroot)"
   ]
  },
  {
   "cell_type": "code",
   "execution_count": 27,
   "id": "5c1221b4-e165-4973-92a4-8e5ed3ff2e56",
   "metadata": {},
   "outputs": [
    {
     "name": "stdin",
     "output_type": "stream",
     "text": [
      "Enter the area of cube : 125\n"
     ]
    },
    {
     "name": "stdout",
     "output_type": "stream",
     "text": [
      "The area of cube root is 5.00\n"
     ]
    }
   ],
   "source": [
    "#Area of Cuberoot\n",
    "a=float(input(\"Enter the area of cube :\"))\n",
    "Area_of_cuberoot=a**(1/3)\n",
    "print(f\"The area of cube root is {Area_of_cuberoot:.2f}\")"
   ]
  },
  {
   "cell_type": "code",
   "execution_count": 44,
   "id": "af91a08b-105c-4951-89d0-9956bf5eb6d5",
   "metadata": {},
   "outputs": [
    {
     "name": "stdin",
     "output_type": "stream",
     "text": [
      "Enter the area of length: 5\n",
      "Enter the area of breadth: 6\n",
      "Enter the area of height: 7\n"
     ]
    },
    {
     "name": "stdout",
     "output_type": "stream",
     "text": [
      "The area of cuboid volume area is: 210.0\n"
     ]
    }
   ],
   "source": [
    "#Area of Cuboid Volume Area\n",
    "l=float(input(\"Enter the area of length:\"))\n",
    "b=float(input(\"Enter the area of breadth:\"))\n",
    "h=float(input(\"Enter the area of height:\"))\n",
    "Area_of_Cuboid_Volume=l*b*h\n",
    "print(\"The area of cuboid volume area is:\",Area_of_Cuboid_Volume)   "
   ]
  },
  {
   "cell_type": "code",
   "execution_count": 45,
   "id": "33472b2f-ef5a-47bc-8f85-67ece8485ce1",
   "metadata": {},
   "outputs": [
    {
     "name": "stdin",
     "output_type": "stream",
     "text": [
      "Enter the area of length: 6\n",
      "Enter the area of breadth: 7\n",
      "Enter the area of height: 4\n"
     ]
    },
    {
     "name": "stdout",
     "output_type": "stream",
     "text": [
      "The area of cuboid surface area is 188.0\n"
     ]
    }
   ],
   "source": [
    "#Area of Cuboid Surface Area\n",
    "length=float(input(\"Enter the area of length:\"))\n",
    "breadth=float(input(\"Enter the area of breadth:\"))\n",
    "height=float(input(\"Enter the area of height:\"))\n",
    "Area_of_cuboid=2*(length*breadth+breadth*height+height*length)\n",
    "print(\"The area of cuboid surface area is\",Area_of_cuboid)"
   ]
  },
  {
   "cell_type": "code",
   "execution_count": 33,
   "id": "68bcfe50-0946-41fa-8f93-932886118939",
   "metadata": {},
   "outputs": [
    {
     "name": "stdin",
     "output_type": "stream",
     "text": [
      "Enter the area of cube: 5\n"
     ]
    },
    {
     "name": "stdout",
     "output_type": "stream",
     "text": [
      "The area of cube is 150.0\n"
     ]
    }
   ],
   "source": [
    "# Area of Cube\n",
    "a=float(input(\"Enter the area of cube:\"))\n",
    "Area_of_cube=6*(a*a)\n",
    "print(\"The area of cube is\",Area_of_cube)"
   ]
  },
  {
   "cell_type": "code",
   "execution_count": 39,
   "id": "bb657207-a996-4b58-98f4-cc9d492d8fc9",
   "metadata": {},
   "outputs": [
    {
     "name": "stdin",
     "output_type": "stream",
     "text": [
      "Enter the radius of cylinder: 5\n",
      "Enter the height of cylinder: 7\n"
     ]
    },
    {
     "name": "stdout",
     "output_type": "stream",
     "text": [
      "The area of cylinder CSA is 219.8\n"
     ]
    }
   ],
   "source": [
    "#Area of cylinder CSA(Cylinder Surface Area)\n",
    "r=float(input(\"Enter the radius of cylinder:\"))\n",
    "h=float(input(\"Enter the height of cylinder:\"))\n",
    "Area_of_cylinder=2*(3.14*r*h)\n",
    "print(\"The area of cylinder CSA is\",Area_of_cylinder)"
   ]
  },
  {
   "cell_type": "code",
   "execution_count": 42,
   "id": "5ac42b76-4315-4bee-a382-85f0004dc98f",
   "metadata": {},
   "outputs": [
    {
     "name": "stdin",
     "output_type": "stream",
     "text": [
      "Enter the radius of cylinder: 5\n",
      "Enter the height of cylinder: 7\n"
     ]
    },
    {
     "name": "stdout",
     "output_type": "stream",
     "text": [
      "The area of cylinder TSA is 376.8\n"
     ]
    }
   ],
   "source": [
    "#Area of Cylinder TSA(Total Surface Area)\n",
    "r=float(input(\"Enter the radius of cylinder:\"))\n",
    "h=float(input(\"Enter the height of cylinder:\"))\n",
    "Area_of_cylinder=2*3.14*r*(h+r)\n",
    "print(\"The area of cylinder TSA is\",Area_of_cylinder)"
   ]
  },
  {
   "cell_type": "code",
   "execution_count": null,
   "id": "f48a9dd2-be54-4d59-a1c5-b95ac592357d",
   "metadata": {},
   "outputs": [],
   "source": []
  }
 ],
 "metadata": {
  "kernelspec": {
   "display_name": "Python 3 (ipykernel)",
   "language": "python",
   "name": "python3"
  },
  "language_info": {
   "codemirror_mode": {
    "name": "ipython",
    "version": 3
   },
   "file_extension": ".py",
   "mimetype": "text/x-python",
   "name": "python",
   "nbconvert_exporter": "python",
   "pygments_lexer": "ipython3",
   "version": "3.13.5"
  }
 },
 "nbformat": 4,
 "nbformat_minor": 5
}
