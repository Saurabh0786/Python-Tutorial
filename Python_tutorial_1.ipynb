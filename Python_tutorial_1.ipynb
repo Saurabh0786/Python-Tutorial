{
 "cells": [
  {
   "cell_type": "code",
   "execution_count": 1,
   "id": "853c6dcb-38b8-4817-be14-9637bb37403f",
   "metadata": {},
   "outputs": [
    {
     "name": "stdout",
     "output_type": "stream",
     "text": [
      "10\n"
     ]
    }
   ],
   "source": [
    "#Basic assign value\n",
    "a=10\n",
    "print(a)"
   ]
  },
  {
   "cell_type": "code",
   "execution_count": 4,
   "id": "955e2a9d-25c0-4723-ba0a-96dc0dccbe1a",
   "metadata": {},
   "outputs": [
    {
     "name": "stdout",
     "output_type": "stream",
     "text": [
      "Hello Python!\n",
      "Hello this is Python\n",
      "The addition of 8 and 9 is 17\n"
     ]
    }
   ],
   "source": [
    "# Hello World First Program\n",
    "a=8\n",
    "b=9\n",
    "print(\"Hello Python!\")\n",
    "str=\"Python\"\n",
    "print(f\"Hello this is {str}\")\n",
    "print(f\"The addition of {a} and {b} is {a+b}\")"
   ]
  },
  {
   "cell_type": "code",
   "execution_count": 3,
   "id": "498be215-3d0f-44e3-83c7-dc35c4004d3c",
   "metadata": {},
   "outputs": [
    {
     "name": "stdout",
     "output_type": "stream",
     "text": [
      "6\n"
     ]
    }
   ],
   "source": [
    "#Addition1 in python\n",
    "a=5+1\n",
    "print(a)"
   ]
  },
  {
   "cell_type": "code",
   "execution_count": 28,
   "id": "94344540-2ba0-4a5f-af92-ba3fab1d2a9b",
   "metadata": {},
   "outputs": [
    {
     "name": "stdout",
     "output_type": "stream",
     "text": [
      "26\n"
     ]
    }
   ],
   "source": [
    "#Addition2 in python\n",
    "a=12\n",
    "b=14\n",
    "c=a+b\n",
    "print(c)"
   ]
  },
  {
   "cell_type": "code",
   "execution_count": 22,
   "id": "d5a10b17-ed7e-4893-b4ec-17386daedcc0",
   "metadata": {},
   "outputs": [
    {
     "name": "stdout",
     "output_type": "stream",
     "text": [
      "4\n"
     ]
    }
   ],
   "source": [
    "# Subtraction in python\n",
    "d=12\n",
    "e=8\n",
    "f=d-e\n",
    "print(f)"
   ]
  },
  {
   "cell_type": "code",
   "execution_count": 43,
   "id": "798c3520-ce60-4465-bf1b-9ec03c369c73",
   "metadata": {},
   "outputs": [
    {
     "name": "stdout",
     "output_type": "stream",
     "text": [
      "<class 'int'>\n",
      "<class 'float'>\n",
      "<class 'str'>\n",
      "<class 'str'>\n"
     ]
    }
   ],
   "source": [
    "# Datatype Check in Python\n",
    "int=5\n",
    "float=4.6\n",
    "str='Check'\n",
    "boolean='1'\n",
    "print(type(int))\n",
    "print(type(float))\n",
    "print(type(str))\n",
    "print(type(boolean))"
   ]
  },
  {
   "cell_type": "code",
   "execution_count": 46,
   "id": "1f57bf60-604d-4e6c-a436-e1f18431f2ba",
   "metadata": {},
   "outputs": [
    {
     "name": "stdout",
     "output_type": "stream",
     "text": [
      "True\n",
      "True\n",
      "False\n"
     ]
    }
   ],
   "source": [
    "#tricky Question\n",
    "print(bool('1'))\n",
    "print(bool('0'))\n",
    "print(bool(''))"
   ]
  },
  {
   "cell_type": "code",
   "execution_count": 49,
   "id": "2f12018f-8de7-4c01-8432-cfd1e869881a",
   "metadata": {},
   "outputs": [
    {
     "name": "stdout",
     "output_type": "stream",
     "text": [
      "True\n",
      "False\n",
      "False\n",
      "True\n"
     ]
    }
   ],
   "source": [
    "print(bool('False'))  # True or False?\n",
    "print(bool(''))       # True or False?\n",
    "print(bool(0))        # True or False?\n",
    "print(bool([\"\"]))       # True or False?"
   ]
  },
  {
   "cell_type": "code",
   "execution_count": 61,
   "id": "c4031cf0-6561-4edc-b6d6-d6106903ac83",
   "metadata": {},
   "outputs": [
    {
     "ename": "SyntaxError",
     "evalue": "invalid syntax. Maybe you meant '==' or ':=' instead of '='? (2928702363.py, line 2)",
     "output_type": "error",
     "traceback": [
      "\u001b[1;36m  Cell \u001b[1;32mIn[61], line 2\u001b[1;36m\u001b[0m\n\u001b[1;33m    @s=\"num\"\u001b[0m\n\u001b[1;37m     ^\u001b[0m\n\u001b[1;31mSyntaxError\u001b[0m\u001b[1;31m:\u001b[0m invalid syntax. Maybe you meant '==' or ':=' instead of '='?\n"
     ]
    }
   ],
   "source": [
    "# First letter Special Character is not allowed except underscore \"_\"\n",
    "@s=\"num\""
   ]
  },
  {
   "cell_type": "code",
   "execution_count": 57,
   "id": "ad9840a3-e050-43a2-9f62-0c33a25b5425",
   "metadata": {},
   "outputs": [
    {
     "name": "stdout",
     "output_type": "stream",
     "text": [
      "Pune\n"
     ]
    }
   ],
   "source": [
    "_city=\"Pune\"\n",
    "print(_city)"
   ]
  },
  {
   "cell_type": "code",
   "execution_count": 63,
   "id": "79789b96-23fe-42ca-a9c5-91009db862c2",
   "metadata": {},
   "outputs": [
    {
     "ename": "SyntaxError",
     "evalue": "invalid decimal literal (3637056420.py, line 2)",
     "output_type": "error",
     "traceback": [
      "\u001b[1;36m  Cell \u001b[1;32mIn[63], line 2\u001b[1;36m\u001b[0m\n\u001b[1;33m    4day=30\u001b[0m\n\u001b[1;37m    ^\u001b[0m\n\u001b[1;31mSyntaxError\u001b[0m\u001b[1;31m:\u001b[0m invalid decimal literal\n"
     ]
    }
   ],
   "source": [
    "# First letter Integer is not allowed\n",
    "4day=30"
   ]
  },
  {
   "cell_type": "code",
   "execution_count": 64,
   "id": "ba94b17c-ea2a-49c9-9c5a-88365ee8422b",
   "metadata": {},
   "outputs": [
    {
     "ename": "SyntaxError",
     "evalue": "invalid syntax (3749571844.py, line 1)",
     "output_type": "error",
     "traceback": [
      "\u001b[1;36m  Cell \u001b[1;32mIn[64], line 1\u001b[1;36m\u001b[0m\n\u001b[1;33m    roll num=5\u001b[0m\n\u001b[1;37m         ^\u001b[0m\n\u001b[1;31mSyntaxError\u001b[0m\u001b[1;31m:\u001b[0m invalid syntax\n"
     ]
    }
   ],
   "source": [
    "# Space is not allowed between word \n",
    "roll num=5"
   ]
  },
  {
   "cell_type": "code",
   "execution_count": 1,
   "id": "cf322358-0bb2-4145-9ef0-7aa5d9278074",
   "metadata": {},
   "outputs": [
    {
     "name": "stdout",
     "output_type": "stream",
     "text": [
      "<class 'float'>\n",
      "<class 'str'>\n"
     ]
    }
   ],
   "source": [
    "a=5.5\n",
    "print(type(a))\n",
    "b=str(a)\n",
    "print(type(b))"
   ]
  },
  {
   "cell_type": "code",
   "execution_count": 4,
   "id": "18f6ce1e-66f5-4a25-b18c-5b66fcf91a17",
   "metadata": {},
   "outputs": [
    {
     "name": "stdout",
     "output_type": "stream",
     "text": [
      "<class 'str'>\n",
      "<class 'int'>\n"
     ]
    }
   ],
   "source": [
    "a='20'\n",
    "print(type(a))\n",
    "b=int(a)\n",
    "print(type(b))"
   ]
  },
  {
   "cell_type": "code",
   "execution_count": 5,
   "id": "ca0c1cc5-0a68-4cf1-b405-1abd41ea8c06",
   "metadata": {},
   "outputs": [
    {
     "name": "stdout",
     "output_type": "stream",
     "text": [
      "<class 'str'>\n"
     ]
    },
    {
     "ename": "ValueError",
     "evalue": "invalid literal for int() with base 10: 'ab'",
     "output_type": "error",
     "traceback": [
      "\u001b[1;31m---------------------------------------------------------------------------\u001b[0m",
      "\u001b[1;31mValueError\u001b[0m                                Traceback (most recent call last)",
      "Cell \u001b[1;32mIn[5], line 3\u001b[0m\n\u001b[0;32m      1\u001b[0m a\u001b[38;5;241m=\u001b[39m\u001b[38;5;124m'\u001b[39m\u001b[38;5;124mab\u001b[39m\u001b[38;5;124m'\u001b[39m\n\u001b[0;32m      2\u001b[0m \u001b[38;5;28mprint\u001b[39m(\u001b[38;5;28mtype\u001b[39m(a))\n\u001b[1;32m----> 3\u001b[0m b\u001b[38;5;241m=\u001b[39m\u001b[38;5;28mint\u001b[39m(a)\n\u001b[0;32m      4\u001b[0m \u001b[38;5;28mprint\u001b[39m(\u001b[38;5;28mtype\u001b[39m(b))\n",
      "\u001b[1;31mValueError\u001b[0m: invalid literal for int() with base 10: 'ab'"
     ]
    }
   ],
   "source": [
    "#actually ye error isliye he string ki value me char he wo kbhi int me change ni hoga agr num hota to convert ho jata\n",
    "a='ab' \n",
    "print(type(a))\n",
    "b=int(a)\n",
    "print(type(b))"
   ]
  },
  {
   "cell_type": "code",
   "execution_count": 8,
   "id": "7c4955d8-2405-47b1-8f5c-49b715d2aaa2",
   "metadata": {},
   "outputs": [
    {
     "name": "stdout",
     "output_type": "stream",
     "text": [
      "<class 'bool'>\n",
      "<class 'int'>\n"
     ]
    }
   ],
   "source": [
    "i=True\n",
    "print(type(i))\n",
    "j=int(i)\n",
    "print(type(j))"
   ]
  },
  {
   "cell_type": "code",
   "execution_count": 14,
   "id": "1c97b2db-61bb-43a5-924f-cf21804162a0",
   "metadata": {},
   "outputs": [
    {
     "name": "stdin",
     "output_type": "stream",
     "text": [
      "Enter the First value 8\n",
      "Enter the Second value 5\n"
     ]
    },
    {
     "name": "stdout",
     "output_type": "stream",
     "text": [
      "The Addition of first and second value is 13.0\n",
      "The Subtraction of first and second value is 3.0\n",
      "The Multiplication of first and second value is 40.0\n",
      "The Division of first and second value is 1.6\n",
      "The Modulo of first and second value is 3.0\n",
      "The Exponentiation of first and second value is 32768.0\n",
      "The Quotient of first and second value is 1.0\n"
     ]
    }
   ],
   "source": [
    "#user input of addition,subtraction,multiplication\n",
    "i=float(input(\"Enter the First value\"))\n",
    "j=float(input(\"Enter the Second value\"))\n",
    "Addition=print(\"The Addition of first and second value is\",i+j)\n",
    "Subtraction=print(\"The Subtraction of first and second value is\",i-j)\n",
    "Multiplication=print(\"The Multiplication of first and second value is\",i*j)\n",
    "Division=print(\"The Division of first and second value is\",i/j)\n",
    "Modulo=print(\"The Modulo of first and second value is\",i%j)\n",
    "Exponentiation=print(\"The Exponentiation of first and second value is\",i**j)\n",
    "Quotient=print(\"The Quotient of first and second value is\",i//j)"
   ]
  },
  {
   "cell_type": "code",
   "execution_count": null,
   "id": "ed27158b-bd11-42f8-b883-a0ce8950f0b6",
   "metadata": {},
   "outputs": [],
   "source": []
  }
 ],
 "metadata": {
  "kernelspec": {
   "display_name": "Python 3 (ipykernel)",
   "language": "python",
   "name": "python3"
  },
  "language_info": {
   "codemirror_mode": {
    "name": "ipython",
    "version": 3
   },
   "file_extension": ".py",
   "mimetype": "text/x-python",
   "name": "python",
   "nbconvert_exporter": "python",
   "pygments_lexer": "ipython3",
   "version": "3.13.5"
  }
 },
 "nbformat": 4,
 "nbformat_minor": 5
}
